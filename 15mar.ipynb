{
 "cells": [
  {
   "cell_type": "code",
   "execution_count": 1,
   "id": "f3292403-068e-4038-8d30-c898de9a61f0",
   "metadata": {},
   "outputs": [
    {
     "data": {
      "text/plain": [
       "'Ans1: Artificial intelligence:- It is the simulation of human like activities without any human intervention.\\n                                    for example, the chatbots which answer the quary of the users.\\n         Machine Learning:- Machine learning is the prediction of some situation by using the previous situation. In \\n                             machine learning the model is trained first for making it to be able to predict.\\n                            for example, the prediction of rain by the using the weather situation of previous data.\\n        Deep Learning:- Deep Learning is the part of Artificial intelligence and Machine Learning which include the \\n                        mimiking the human brains or try to do similar task like human brains do.\\n                        for example, object detection, image recogniation etc.\\n'"
      ]
     },
     "execution_count": 1,
     "metadata": {},
     "output_type": "execute_result"
    }
   ],
   "source": [
    "'''Ans1: Artificial intelligence:- It is the simulation of human like activities without any human intervention.\n",
    "                                    for example, the chatbots which answer the quary of the users.\n",
    "         Machine Learning:- Machine learning is the prediction of some situation by using the previous situation. In \n",
    "                             machine learning the model is trained first for making it to be able to predict.\n",
    "                            for example, the prediction of rain by the using the weather situation of previous data.\n",
    "        Deep Learning:- Deep Learning is the part of Artificial intelligence and Machine Learning which include the \n",
    "                        mimiking the human brains or try to do similar task like human brains do.\n",
    "                        for example, object detection, image recogniation etc.\n",
    "'''"
   ]
  },
  {
   "cell_type": "code",
   "execution_count": null,
   "id": "4f9dfaff-08eb-4fc1-987d-fdf4ec2e8ee7",
   "metadata": {},
   "outputs": [],
   "source": [
    "'''Ans2: In supervised learning the training data is used to train the model and that training data have the both\n",
    "         input and output. The supervised learning include the classification and regression problem. In classification\n",
    "         the output is the classification into the two or more groups while in regression the output is continuous value.\n",
    "         For example, prediction of house price by its features etc.\n",
    "         \n",
    "'''"
   ]
  },
  {
   "cell_type": "code",
   "execution_count": null,
   "id": "2d22d3c3-9395-49ca-83fb-db3b9e6451ab",
   "metadata": {},
   "outputs": [],
   "source": [
    "'''Ans3: The unsupervised learning include the trining data which doesn't have any output but the model try to find\n",
    "         the relation between the data provided which leads to the clustering of the data. This type of model do \n",
    "         the segementation of the data and make some groups.\n",
    "         for example. the prediction of customer by brands which can buy their products.\n",
    "'''"
   ]
  },
  {
   "cell_type": "code",
   "execution_count": null,
   "id": "cbed1321-bc9f-4f31-856c-b17afe3f61a9",
   "metadata": {},
   "outputs": [],
   "source": [
    "'''Ans4: The difference between the AI,ML,DS,DL are:\n",
    "            \n",
    "            i. Deep Learning include the part of simulation of human brains like how the human brains works and try to\n",
    "                replicate its functions.\n",
    "            ii. Artificial Intelligence include the all ML, DL etc it is the application which can do task without human\n",
    "                intervention.\n",
    "            iii. Machine Learning include the training of the model first by using the past data and then using that model\n",
    "                 to predict the other output.\n",
    "            iv. Data science include some parts of all AI, ML, DL, etc. and \n",
    "'''"
   ]
  },
  {
   "cell_type": "code",
   "execution_count": null,
   "id": "8c614666-8e64-41e2-aee5-4a080b570b14",
   "metadata": {},
   "outputs": [],
   "source": [
    "'''Ans5: The main difference between the supervised, unsupervised and semi supervised learning are:\n",
    "            \n",
    "            i. supervised learning is used for the classification and regression of the objects or values.\n",
    "            ii. unsupervised learning is used for the clustering purpose.\n",
    "            iii. semi supervised learning is used for the both classification and the clustering purpose it is the \n",
    "                combination of supervised and unsupervised learning.\n",
    "'''"
   ]
  },
  {
   "cell_type": "code",
   "execution_count": null,
   "id": "830b293a-5f23-42c9-b1bb-bcbe8296b329",
   "metadata": {},
   "outputs": [],
   "source": [
    "'''Ans6: Train split: In this split of the data, the data is used for the training the model by giving it both, \n",
    "                        input and output this make the model to train according to the data given. This split is \n",
    "                        important because it trains the model.\n",
    "         \n",
    "         validation split: In this type of split the model is tuned or improved in terms of its performance like making\n",
    "                             it more effiecient in terms of prediction. It is important because it increase the effectiveness\n",
    "                             of a model.\n",
    "        test split: In this type of split the model is test by some datasets to check if the model is trained properly\n",
    "                    or not and if the model can predict the outcome accurately or not. This split test the accuracy of\n",
    "                    a model.\n",
    "'''"
   ]
  },
  {
   "cell_type": "code",
   "execution_count": null,
   "id": "1750cb54-f3ad-4f45-9b9d-14388a3350b4",
   "metadata": {},
   "outputs": [],
   "source": [
    "'''Ans7: The supervised learning can be used in anamoly detection or outliers detection by the following methods: \n",
    "            \n",
    "            i. statistical methods: Statistical techniques such as clustering, density estimation, and distribution \n",
    "                                    modeling can be used to detect anomalies. Clustering algorithms such as k-means \n",
    "                                    or hierarchical clustering can group similar instances together, and instances \n",
    "                                    that do not belong to any cluster can be considered as anomalies.\n",
    "            ii. Dimensionality reduction: Dimensionality reduction techniques such as Principal Component Analysis \n",
    "                                            (PCA) or t-SNE (t-Distributed Stochastic Neighbor Embedding) can reduce \n",
    "                                            the dimensionality of data while retaining important information.\n",
    "'''"
   ]
  },
  {
   "cell_type": "code",
   "execution_count": null,
   "id": "873ed7d8-860e-4d65-bfda-f5efbea86125",
   "metadata": {},
   "outputs": [],
   "source": [
    "'''Ans8: Some supervised learning algorithms are: \n",
    "            \n",
    "            i. Linear Regression\n",
    "            ii. Logistic Regression\n",
    "            iii. Decision Trees\n",
    "            iv. Random Forest\n",
    "            v. K-Nearest Neighbors (KNN)\n",
    "            vi. Naive Bayes\n",
    "            vii. Neural Networks (e.g., Multilayer Perceptron)\n",
    "            \n",
    "            \n",
    "        Some Unsupervised Learning Algorithms are:\n",
    "\n",
    "            i. K-Means Clustering\n",
    "            ii. Hierarchical Clustering\n",
    "            iii. Density-Based Spatial Clustering of Applications with Noise (DBSCAN)\n",
    "            iv. Principal Component Analysis (PCA)\n",
    "\n",
    "\n",
    "\n",
    "\n",
    "'''"
   ]
  }
 ],
 "metadata": {
  "kernelspec": {
   "display_name": "Python 3 (ipykernel)",
   "language": "python",
   "name": "python3"
  },
  "language_info": {
   "codemirror_mode": {
    "name": "ipython",
    "version": 3
   },
   "file_extension": ".py",
   "mimetype": "text/x-python",
   "name": "python",
   "nbconvert_exporter": "python",
   "pygments_lexer": "ipython3",
   "version": "3.10.8"
  }
 },
 "nbformat": 4,
 "nbformat_minor": 5
}
